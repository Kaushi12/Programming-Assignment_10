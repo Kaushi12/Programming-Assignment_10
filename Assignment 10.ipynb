{
 "cells": [
  {
   "cell_type": "code",
   "execution_count": 14,
   "metadata": {},
   "outputs": [
    {
     "name": "stdout",
     "output_type": "stream",
     "text": [
      "Enter elements: 1,2,3,4\n",
      "10\n"
     ]
    }
   ],
   "source": [
    "lst1=list(map(int,input(\"Enter elements: \").strip().split(',')))\n",
    "sum=0\n",
    "for i in lst1:\n",
    "    sum=sum+i\n",
    "print(sum)"
   ]
  },
  {
   "cell_type": "code",
   "execution_count": 15,
   "metadata": {},
   "outputs": [
    {
     "name": "stdout",
     "output_type": "stream",
     "text": [
      "Enter elemets: 3,4,2,5\n",
      "120\n"
     ]
    }
   ],
   "source": [
    "lst2=list(map(int,input(\"Enter elemets: \").strip().split(',')))\n",
    "mul=1\n",
    "for i in lst2:\n",
    "    mul=mul*i\n",
    "print(mul)"
   ]
  },
  {
   "cell_type": "code",
   "execution_count": 13,
   "metadata": {},
   "outputs": [
    {
     "name": "stdout",
     "output_type": "stream",
     "text": [
      "Enter elements: 23,-1,45,78,-5,100\n",
      "-5\n"
     ]
    }
   ],
   "source": [
    "lst3=list(map(int,input(\"Enter elements: \").strip().split(',')))\n",
    "smallest=lst3[0]\n",
    "for i in lst3:\n",
    "    if smallest>i:\n",
    "        smallest=i\n",
    "print(smallest)"
   ]
  },
  {
   "cell_type": "code",
   "execution_count": 16,
   "metadata": {},
   "outputs": [
    {
     "name": "stdout",
     "output_type": "stream",
     "text": [
      "Enter elements: 72,34,98,21,55\n",
      "98\n"
     ]
    }
   ],
   "source": [
    "lst4=list(map(int,input(\"Enter elements: \").strip().split(',')))\n",
    "largest=lst4[0]\n",
    "for i in lst4:\n",
    "    if largest<i:\n",
    "        largest=i\n",
    "print(largest)"
   ]
  },
  {
   "cell_type": "code",
   "execution_count": 1,
   "metadata": {},
   "outputs": [
    {
     "name": "stdout",
     "output_type": "stream",
     "text": [
      "Enter elements: 72,34,98,21,55\n",
      "72\n"
     ]
    }
   ],
   "source": [
    "lst5=list(map(int,input(\"Enter elements: \").strip().split(',')))\n",
    "largest=lst5[0]\n",
    "for i in lst5:\n",
    "    if largest<i:\n",
    "        largest=i\n",
    "    for j in lst5:\n",
    "        if i<j<largest:\n",
    "            second_largest=j\n",
    "print(second_largest)"
   ]
  },
  {
   "cell_type": "code",
   "execution_count": 3,
   "metadata": {},
   "outputs": [
    {
     "name": "stdout",
     "output_type": "stream",
     "text": [
      "Enter elements: 2, 6, 41, 85, 0, 3, 7, 6, 10\n",
      "Enter no of largest elements you want: 2\n",
      "[85, 41]\n"
     ]
    }
   ],
   "source": [
    "lst6=list(map(int,input(\"Enter elements: \").strip().split(',')))\n",
    "N=int(input(\"Enter no of largest elements you want: \"))\n",
    "final_list=[]\n",
    "for i in range(0,N):\n",
    "    max1=0\n",
    "    for j in range(len(lst6)):\n",
    "        if lst6[j]>max1:\n",
    "            max1=lst6[j]\n",
    "    lst6.remove(max1)\n",
    "    final_list.append(max1)\n",
    "print(final_list)"
   ]
  },
  {
   "cell_type": "code",
   "execution_count": 6,
   "metadata": {},
   "outputs": [
    {
     "name": "stdout",
     "output_type": "stream",
     "text": [
      "Enter elements: 45,66,78,96,21,36\n",
      "66 78 96 36 "
     ]
    }
   ],
   "source": [
    "lst7=list(map(int,input(\"Enter elements: \").strip().split(',')))\n",
    "for i in lst7:\n",
    "    if i%2==0:\n",
    "        print(i,end=' ')\n",
    "        "
   ]
  },
  {
   "cell_type": "code",
   "execution_count": 8,
   "metadata": {},
   "outputs": [
    {
     "name": "stdout",
     "output_type": "stream",
     "text": [
      "Enter elements: 45,66,78,21,96,36\n",
      "45 21 "
     ]
    }
   ],
   "source": [
    "lst8=list(map(int,input(\"Enter elements: \").strip().split(',')))\n",
    "for i in lst8:\n",
    "    if i%2!=0:\n",
    "        print(i,end=' ')"
   ]
  },
  {
   "cell_type": "code",
   "execution_count": 4,
   "metadata": {},
   "outputs": [
    {
     "name": "stdout",
     "output_type": "stream",
     "text": [
      "The original list is : [5, 6, [], 3, [], [], 9]\n",
      "List after empty list removal : [5, 6, 3, 9]\n"
     ]
    }
   ],
   "source": [
    "lst9 = [5, 6, [], 3, [], [], 9]\n",
    "  \n",
    "# printing original list \n",
    "print(\"The original list is : \" + str(lst9))\n",
    "  \n",
    "# Remove empty List from List\n",
    "# using list comprehension\n",
    "res = [ele for ele in lst9 if ele != []]\n",
    "  \n",
    "# printing result \n",
    "print (\"List after empty list removal : \" + str(res))"
   ]
  },
  {
   "cell_type": "code",
   "execution_count": 10,
   "metadata": {},
   "outputs": [
    {
     "name": "stdout",
     "output_type": "stream",
     "text": [
      "Enter elements: 2,4,5,8,9,1\n",
      "Original list: [2, 4, 5, 8, 9, 1]\n",
      "Clown list is: [2, 4, 5, 8, 9, 1]\n"
     ]
    }
   ],
   "source": [
    "lst10=list(map(int,input(\"Enter elements: \").strip().split(',')))\n",
    "print(\"Original list:\",lst10)\n",
    "clown_list=[]\n",
    "for i in lst10:\n",
    "    clown_list.append(i)\n",
    "print(\"Clown list is:\",clown_list)"
   ]
  },
  {
   "cell_type": "code",
   "execution_count": 16,
   "metadata": {},
   "outputs": [
    {
     "name": "stdout",
     "output_type": "stream",
     "text": [
      "Enter elements: 1,6,1,3,4,1,8,9,1\n",
      "Enter number to find it's occurences: 1\n",
      "1 has occured 4 times\n"
     ]
    }
   ],
   "source": [
    "lst11=list(map(int,input(\"Enter elements: \").strip().split(',')))\n",
    "n=int(input(\"Enter number to find it's occurences: \"))\n",
    "count=0\n",
    "for i in lst11:\n",
    "    if i==n:\n",
    "        count+=1\n",
    "print(\"{0} has occured {1} times\".format(n,count))"
   ]
  },
  {
   "cell_type": "code",
   "execution_count": null,
   "metadata": {},
   "outputs": [],
   "source": []
  }
 ],
 "metadata": {
  "kernelspec": {
   "display_name": "Python 3",
   "language": "python",
   "name": "python3"
  },
  "language_info": {
   "codemirror_mode": {
    "name": "ipython",
    "version": 3
   },
   "file_extension": ".py",
   "mimetype": "text/x-python",
   "name": "python",
   "nbconvert_exporter": "python",
   "pygments_lexer": "ipython3",
   "version": "3.8.5"
  }
 },
 "nbformat": 4,
 "nbformat_minor": 4
}
